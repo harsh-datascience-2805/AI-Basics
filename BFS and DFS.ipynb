{
 "cells": [
  {
   "cell_type": "code",
   "execution_count": null,
   "id": "29c95b96",
   "metadata": {},
   "outputs": [],
   "source": []
  },
  {
   "cell_type": "code",
   "execution_count": null,
   "id": "6b8ff5f8",
   "metadata": {},
   "outputs": [],
   "source": []
  },
  {
   "cell_type": "markdown",
   "id": "2678a40c",
   "metadata": {},
   "source": [
    "# BFS (Breadth First Search)"
   ]
  },
  {
   "cell_type": "code",
   "execution_count": 1,
   "id": "c3ca267d",
   "metadata": {},
   "outputs": [],
   "source": [
    "from collections import deque"
   ]
  },
  {
   "cell_type": "code",
   "execution_count": 2,
   "id": "cdb70ede",
   "metadata": {},
   "outputs": [],
   "source": [
    "def bfs(graph, start):\n",
    "    visited = set()           # To track visited nodes\n",
    "    queue = deque([start])    # Queue for BFS traversal\n",
    "\n",
    "    while queue:\n",
    "        node = queue.popleft()\n",
    "        print(node)           # Process or perform computation on the node\n",
    "\n",
    "        if node not in visited:\n",
    "            visited.add(node)\n",
    "            neighbors = graph[node] if node in graph else []\n",
    "            queue.extend(neighbors)"
   ]
  },
  {
   "cell_type": "code",
   "execution_count": 3,
   "id": "5d678a85",
   "metadata": {},
   "outputs": [],
   "source": [
    "# Example graph \n",
    "graph = {\n",
    "    'A': ['B', 'C'],\n",
    "    'B': ['D', 'E'],\n",
    "    'C': ['F'],\n",
    "    'D': [],\n",
    "    'E': ['F'],\n",
    "    'F': []\n",
    "}"
   ]
  },
  {
   "cell_type": "code",
   "execution_count": 4,
   "id": "2108b94b",
   "metadata": {},
   "outputs": [
    {
     "name": "stdout",
     "output_type": "stream",
     "text": [
      "A\n",
      "B\n",
      "C\n",
      "D\n",
      "E\n",
      "F\n",
      "F\n"
     ]
    }
   ],
   "source": [
    "start_node = 'A'\n",
    "bfs(graph, start_node)"
   ]
  },
  {
   "cell_type": "code",
   "execution_count": null,
   "id": "5e119897",
   "metadata": {},
   "outputs": [],
   "source": []
  },
  {
   "cell_type": "code",
   "execution_count": null,
   "id": "ee556536",
   "metadata": {},
   "outputs": [],
   "source": []
  },
  {
   "cell_type": "markdown",
   "id": "6fdf02f5",
   "metadata": {},
   "source": [
    "# Dynamic"
   ]
  },
  {
   "cell_type": "code",
   "execution_count": 5,
   "id": "6c3f6f16",
   "metadata": {},
   "outputs": [
    {
     "name": "stdout",
     "output_type": "stream",
     "text": [
      "Enter the value of the root node: A\n",
      "Enter the number of children for node A: 2\n",
      "Enter the value of child 1 for node A: B\n",
      "Enter the value of child 2 for node A: C\n",
      "Enter the number of children for node B: 2\n",
      "Enter the value of child 1 for node B: D\n",
      "Enter the value of child 2 for node B: E\n",
      "Enter the number of children for node C: 1\n",
      "Enter the value of child 1 for node C: F\n",
      "Enter the number of children for node D: 0\n",
      "Enter the number of children for node E: 1\n",
      "Enter the value of child 1 for node E: F\n",
      "Enter the number of children for node F: 0\n",
      "Enter the number of children for node F: 0\n",
      "BFS traversal:\n",
      "A B C D E F F "
     ]
    }
   ],
   "source": [
    "from collections import deque\n",
    "\n",
    "class TreeNode:\n",
    "    def __init__(self, val):\n",
    "        self.val = val\n",
    "        self.children = []\n",
    "\n",
    "def bfs(root):\n",
    "    if not root:\n",
    "        return\n",
    "\n",
    "    queue = deque([root])\n",
    "\n",
    "    while queue:\n",
    "        current_node = queue.popleft()\n",
    "        print(current_node.val, end=\" \")\n",
    "\n",
    "        for child in current_node.children:\n",
    "            queue.append(child)\n",
    "\n",
    "# Function to build the tree dynamically\n",
    "def build_tree():\n",
    "    val = input(\"Enter the value of the root node: \")\n",
    "    root = TreeNode(val)\n",
    "    queue = deque([root])\n",
    "\n",
    "    while queue:\n",
    "        current_node = queue.popleft()\n",
    "        num_children = int(input(f\"Enter the number of children for node {current_node.val}: \"))\n",
    "\n",
    "        for i in range(num_children):\n",
    "            child_val = input(f\"Enter the value of child {i + 1} for node {current_node.val}: \")\n",
    "            child_node = TreeNode(child_val)\n",
    "            current_node.children.append(child_node)\n",
    "            queue.append(child_node)\n",
    "\n",
    "    return root\n",
    "\n",
    "# Get the tree from the user\n",
    "root = build_tree()\n",
    "\n",
    "print(\"BFS traversal:\")\n",
    "bfs(root)\n"
   ]
  },
  {
   "cell_type": "code",
   "execution_count": null,
   "id": "7ce11fb8",
   "metadata": {},
   "outputs": [],
   "source": []
  },
  {
   "cell_type": "code",
   "execution_count": null,
   "id": "e298274f",
   "metadata": {},
   "outputs": [],
   "source": []
  },
  {
   "cell_type": "code",
   "execution_count": null,
   "id": "e592a609",
   "metadata": {},
   "outputs": [],
   "source": []
  },
  {
   "cell_type": "code",
   "execution_count": null,
   "id": "6fbe053f",
   "metadata": {},
   "outputs": [],
   "source": []
  },
  {
   "cell_type": "markdown",
   "id": "191e8dde",
   "metadata": {},
   "source": [
    "# DFS (Depth First Search)"
   ]
  },
  {
   "cell_type": "code",
   "execution_count": 6,
   "id": "eaa2cd3d",
   "metadata": {},
   "outputs": [],
   "source": [
    "def dfs(graph, start, visited=None):\n",
    "    if visited is None:\n",
    "        visited = set()   # To track visited nodes\n",
    "\n",
    "    visited.add(start)\n",
    "    print(start)         # Process or perform computation on the node\n",
    "\n",
    "    neighbors = graph[start] if start in graph else []\n",
    "\n",
    "    for neighbor in neighbors:\n",
    "        if neighbor not in visited:\n",
    "            dfs(graph, neighbor, visited)"
   ]
  },
  {
   "cell_type": "code",
   "execution_count": 7,
   "id": "b73ba1d0",
   "metadata": {},
   "outputs": [],
   "source": [
    "# Example graph \n",
    "graph = {\n",
    "    'A': ['B', 'C'],\n",
    "    'B': ['D', 'E'],\n",
    "    'C': ['F'],\n",
    "    'D': [],\n",
    "    'E': ['F'],\n",
    "    'F': []\n",
    "}"
   ]
  },
  {
   "cell_type": "code",
   "execution_count": 8,
   "id": "4ca12e4d",
   "metadata": {
    "scrolled": true
   },
   "outputs": [
    {
     "name": "stdout",
     "output_type": "stream",
     "text": [
      "A\n",
      "B\n",
      "D\n",
      "E\n",
      "F\n",
      "C\n"
     ]
    }
   ],
   "source": [
    "start_node = 'A'\n",
    "dfs(graph, start_node)"
   ]
  },
  {
   "cell_type": "code",
   "execution_count": null,
   "id": "5b2c1b8c",
   "metadata": {},
   "outputs": [],
   "source": []
  },
  {
   "cell_type": "code",
   "execution_count": null,
   "id": "3528560b",
   "metadata": {},
   "outputs": [],
   "source": []
  },
  {
   "cell_type": "markdown",
   "id": "daf4152e",
   "metadata": {},
   "source": [
    "# Dynamic"
   ]
  },
  {
   "cell_type": "code",
   "execution_count": 10,
   "id": "45f84ff2",
   "metadata": {},
   "outputs": [
    {
     "name": "stdout",
     "output_type": "stream",
     "text": [
      "Please enter the graph information:\n",
      "Enter a node (or 'done' to stop): A\n",
      "Enter neighbors for node A separated by spaces: B C\n",
      "Enter a node (or 'done' to stop): B\n",
      "Enter neighbors for node B separated by spaces: D E\n",
      "Enter a node (or 'done' to stop): C\n",
      "Enter neighbors for node C separated by spaces: F\n",
      "Enter a node (or 'done' to stop): E\n",
      "Enter neighbors for node E separated by spaces: F\n",
      "Enter a node (or 'done' to stop): done\n",
      "Enter the start node: A\n",
      "DFS Traversal starting from node A\n",
      "A\n",
      "B\n",
      "D\n",
      "E\n",
      "F\n",
      "C\n"
     ]
    }
   ],
   "source": [
    "def dfs(graph, start, visited=None):\n",
    "    if visited is None:\n",
    "        visited = set()\n",
    "\n",
    "    visited.add(start)\n",
    "    print(start)  # Process or perform computation on the node\n",
    "\n",
    "    neighbors = graph[start] if start in graph else []\n",
    "\n",
    "    for neighbor in neighbors:\n",
    "        if neighbor not in visited:\n",
    "            dfs(graph, neighbor, visited)\n",
    "\n",
    "# Function to get graph input from the user\n",
    "def get_graph_input():\n",
    "    graph = {}\n",
    "    while True:\n",
    "        node = input(\"Enter a node (or 'done' to stop): \")\n",
    "        if node.lower() == 'done':\n",
    "            break\n",
    "        neighbors = input(f\"Enter neighbors for node {node} separated by spaces: \").split()\n",
    "        graph[node] = neighbors\n",
    "\n",
    "    return graph\n",
    "\n",
    "# Example usage\n",
    "print(\"Please enter the graph information:\")\n",
    "graph = get_graph_input()\n",
    "\n",
    "start_node = input(\"Enter the start node: \")\n",
    "\n",
    "print(\"DFS Traversal starting from node\", start_node)\n",
    "dfs(graph, start_node)\n"
   ]
  },
  {
   "cell_type": "code",
   "execution_count": null,
   "id": "53f987b0",
   "metadata": {},
   "outputs": [],
   "source": []
  },
  {
   "cell_type": "code",
   "execution_count": null,
   "id": "8f69eed0",
   "metadata": {},
   "outputs": [],
   "source": []
  },
  {
   "cell_type": "code",
   "execution_count": null,
   "id": "442abe82",
   "metadata": {},
   "outputs": [],
   "source": []
  },
  {
   "cell_type": "code",
   "execution_count": null,
   "id": "fd33878f",
   "metadata": {},
   "outputs": [],
   "source": []
  },
  {
   "cell_type": "code",
   "execution_count": null,
   "id": "1065e1b3",
   "metadata": {},
   "outputs": [],
   "source": []
  },
  {
   "cell_type": "code",
   "execution_count": null,
   "id": "dc21c48c",
   "metadata": {},
   "outputs": [],
   "source": []
  },
  {
   "cell_type": "code",
   "execution_count": null,
   "id": "6b8e2ccc",
   "metadata": {},
   "outputs": [],
   "source": []
  },
  {
   "cell_type": "code",
   "execution_count": null,
   "id": "e3e116dd",
   "metadata": {},
   "outputs": [],
   "source": []
  }
 ],
 "metadata": {
  "kernelspec": {
   "display_name": "Python 3 (ipykernel)",
   "language": "python",
   "name": "python3"
  },
  "language_info": {
   "codemirror_mode": {
    "name": "ipython",
    "version": 3
   },
   "file_extension": ".py",
   "mimetype": "text/x-python",
   "name": "python",
   "nbconvert_exporter": "python",
   "pygments_lexer": "ipython3",
   "version": "3.9.16"
  }
 },
 "nbformat": 4,
 "nbformat_minor": 5
}
