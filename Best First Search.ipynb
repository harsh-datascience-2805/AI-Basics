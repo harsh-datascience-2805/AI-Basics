{
 "cells": [
  {
   "cell_type": "code",
   "execution_count": 1,
   "id": "8cb0c956",
   "metadata": {},
   "outputs": [],
   "source": [
    "from queue import PriorityQueue\n",
    "\n",
    "def best_first_search(graph, start, goal, heuristic):\n",
    "    queue = PriorityQueue()\n",
    "    queue.put((heuristic[start], [start]))  # (heuristic value, [path])\n",
    "\n",
    "    visited = set()\n",
    "\n",
    "    while not queue.empty():\n",
    "        _, path = queue.get()\n",
    "        current_node = path[-1]\n",
    "\n",
    "        if current_node == goal:\n",
    "            return path  # Goal node found, return the path\n",
    "\n",
    "        if current_node not in visited:\n",
    "            visited.add(current_node)\n",
    "\n",
    "            for neighbor in graph[current_node]:\n",
    "                if neighbor not in visited:\n",
    "                    new_path = path + [neighbor]\n",
    "                    queue.put((heuristic[neighbor], new_path))\n",
    "\n",
    "    return None  # Goal node not found, return None"
   ]
  },
  {
   "cell_type": "code",
   "execution_count": 2,
   "id": "aae85eb7",
   "metadata": {},
   "outputs": [],
   "source": [
    "# Example\n",
    "graph = {\n",
    "    'A': {'B', 'C'},\n",
    "    'B': {'A', 'D', 'E'},\n",
    "    'C': {'A', 'F'},\n",
    "    'D': {'B'},\n",
    "    'E': {'B', 'F'},\n",
    "    'F': {'C', 'E'}\n",
    "}\n",
    "\n",
    "heuristic_values = {\n",
    "    'A': 5,\n",
    "    'B': 4,\n",
    "    'C': 3,\n",
    "    'D': 2,\n",
    "    'E': 1,\n",
    "    'F': 0\n",
    "}"
   ]
  },
  {
   "cell_type": "code",
   "execution_count": 3,
   "id": "1a9133a5",
   "metadata": {},
   "outputs": [
    {
     "name": "stdout",
     "output_type": "stream",
     "text": [
      "Path from A to F with heuristic values:\n",
      "A  - heuristic: 5\n",
      "C  - heuristic: 3\n",
      "F  - heuristic: 0\n"
     ]
    }
   ],
   "source": [
    "start_node = 'A'\n",
    "goal_node = 'F'\n",
    "\n",
    "path = best_first_search(graph, start_node, goal_node, heuristic_values)\n",
    "\n",
    "if path:\n",
    "    print(\"Path from\", start_node, \"to\", goal_node, \"with heuristic values:\")\n",
    "    for node in path:\n",
    "        print(node, \" - heuristic:\", heuristic_values[node])\n",
    "else:\n",
    "    print(\"Goal node not found! No path from\", start_node, \"to\", goal_node, \"exists.\")"
   ]
  },
  {
   "cell_type": "code",
   "execution_count": null,
   "id": "42cc5452",
   "metadata": {},
   "outputs": [],
   "source": []
  },
  {
   "cell_type": "code",
   "execution_count": null,
   "id": "4d92f4b7",
   "metadata": {},
   "outputs": [],
   "source": []
  },
  {
   "cell_type": "markdown",
   "id": "91b29d90",
   "metadata": {},
   "source": [
    "# Dynamic"
   ]
  },
  {
   "cell_type": "code",
   "execution_count": 4,
   "id": "271cacb3",
   "metadata": {},
   "outputs": [
    {
     "name": "stdout",
     "output_type": "stream",
     "text": [
      "Please enter the graph information:\n",
      "Enter a node (or 'done' to stop): A\n",
      "Enter neighbors for node A separated by spaces: B C\n",
      "Enter a node (or 'done' to stop): B\n",
      "Enter neighbors for node B separated by spaces: A D E\n",
      "Enter a node (or 'done' to stop): C\n",
      "Enter neighbors for node C separated by spaces: A F\n",
      "Enter a node (or 'done' to stop): D\n",
      "Enter neighbors for node D separated by spaces: B\n",
      "Enter a node (or 'done' to stop): E\n",
      "Enter neighbors for node E separated by spaces: B F\n",
      "Enter a node (or 'done' to stop): F\n",
      "Enter neighbors for node F separated by spaces: C E\n",
      "Enter a node (or 'done' to stop): done\n",
      "\n",
      "Please enter the heuristic values:\n",
      "Enter heuristic value for node A: 5\n",
      "Enter heuristic value for node B: 4\n",
      "Enter heuristic value for node C: 3\n",
      "Enter heuristic value for node D: 2\n",
      "Enter heuristic value for node E: 1\n",
      "Enter heuristic value for node F: 0\n",
      "Enter the start node: A\n",
      "Enter the goal node: F\n",
      "Path from A to F with heuristic values:\n",
      "A  - heuristic: 5\n",
      "C  - heuristic: 3\n",
      "F  - heuristic: 0\n"
     ]
    }
   ],
   "source": [
    "from queue import PriorityQueue\n",
    "\n",
    "def best_first_search(graph, start, goal, heuristic):\n",
    "    queue = PriorityQueue()\n",
    "    queue.put((heuristic[start], [start]))  # (heuristic value, [path])\n",
    "\n",
    "    visited = set()\n",
    "\n",
    "    while not queue.empty():\n",
    "        _, path = queue.get()\n",
    "        current_node = path[-1]\n",
    "\n",
    "        if current_node == goal:\n",
    "            return path  # Goal node found, return the path\n",
    "\n",
    "        if current_node not in visited:\n",
    "            visited.add(current_node)\n",
    "\n",
    "            for neighbor in graph[current_node]:\n",
    "                if neighbor not in visited:\n",
    "                    new_path = path + [neighbor]\n",
    "                    queue.put((heuristic[neighbor], new_path))\n",
    "\n",
    "    return None  # Goal node not found, return None\n",
    "\n",
    "# Function to get graph input from the user\n",
    "def get_graph_input():\n",
    "    graph = {}\n",
    "    while True:\n",
    "        node = input(\"Enter a node (or 'done' to stop): \")\n",
    "        if node.lower() == 'done':\n",
    "            break\n",
    "        neighbors = input(f\"Enter neighbors for node {node} separated by spaces: \").split()\n",
    "        graph[node] = set(neighbors)\n",
    "\n",
    "    return graph\n",
    "\n",
    "# Function to get heuristic values from the user\n",
    "def get_heuristic_values(nodes):\n",
    "    heuristic = {}\n",
    "\n",
    "    for node in nodes:\n",
    "        heuristic_value = int(input(f\"Enter heuristic value for node {node}: \"))\n",
    "        heuristic[node] = heuristic_value\n",
    "\n",
    "    return heuristic\n",
    "\n",
    "# Example usage\n",
    "print(\"Please enter the graph information:\")\n",
    "graph = get_graph_input()\n",
    "\n",
    "print(\"\\nPlease enter the heuristic values:\")\n",
    "heuristic_values = get_heuristic_values(graph.keys())\n",
    "\n",
    "start_node = input(\"Enter the start node: \")\n",
    "goal_node = input(\"Enter the goal node: \")\n",
    "\n",
    "path = best_first_search(graph, start_node, goal_node, heuristic_values)\n",
    "\n",
    "if path:\n",
    "    print(\"Path from\", start_node, \"to\", goal_node, \"with heuristic values:\")\n",
    "    for node in path:\n",
    "        print(node, \" - heuristic:\", heuristic_values[node])\n",
    "else:\n",
    "    print(\"Goal node not found! No path from\", start_node, \"to\", goal_node, \"exists.\")\n"
   ]
  },
  {
   "cell_type": "code",
   "execution_count": null,
   "id": "74c2e208",
   "metadata": {},
   "outputs": [],
   "source": []
  }
 ],
 "metadata": {
  "kernelspec": {
   "display_name": "Python 3 (ipykernel)",
   "language": "python",
   "name": "python3"
  },
  "language_info": {
   "codemirror_mode": {
    "name": "ipython",
    "version": 3
   },
   "file_extension": ".py",
   "mimetype": "text/x-python",
   "name": "python",
   "nbconvert_exporter": "python",
   "pygments_lexer": "ipython3",
   "version": "3.9.16"
  }
 },
 "nbformat": 4,
 "nbformat_minor": 5
}
